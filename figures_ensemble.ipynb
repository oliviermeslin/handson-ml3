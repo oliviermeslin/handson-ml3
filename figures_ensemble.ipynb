{
 "cells": [
  {
   "cell_type": "code",
   "execution_count": 12,
   "metadata": {},
   "outputs": [],
   "source": [
    "# Create random data\n",
    "\n",
    "import numpy as np\n",
    "import pandas as pd\n",
    "from plotnine import * \n",
    "import matplotlib.pyplot as plt\n",
    "from sklearn.datasets import make_moons\n",
    "from sklearn.model_selection import train_test_split\n",
    "\n",
    "n_samples = 2000\n",
    "test_size = 0.1\n",
    "# Clean data\n",
    "X_clean, y_clean = make_moons(n_samples=n_samples, noise=0.10, random_state=42)\n",
    "X_clean_train, X_clean_test, y_clean_train, y_clean_test = train_test_split(X_clean, y_clean, test_size = test_size, random_state=42)\n",
    "\n",
    "# Noisy data\n",
    "X_noisy, y_noisy = make_moons(n_samples=n_samples, noise=0.40, random_state=42)\n",
    "X_noisy_train, X_noisy_test, y_noisy_train, y_noisy_test = train_test_split(X_noisy, y_noisy, test_size = test_size, random_state=12)"
   ]
  },
  {
   "cell_type": "code",
   "execution_count": null,
   "metadata": {},
   "outputs": [],
   "source": [
    "## Plot the data\n",
    "\n",
    "# Create a DataFrame for the data\n",
    "df_clean = pd.DataFrame({\n",
    "    'Feature1': X_clean[:, 0],\n",
    "    'Feature2': X_clean[:, 1],\n",
    "    'Class': y_clean,\n",
    "    'quality': 'Clean'\n",
    "})\n",
    "\n",
    "df_noisy = pd.DataFrame({\n",
    "    'Feature1': X_noisy[:, 0],\n",
    "    'Feature2': X_noisy[:, 1],\n",
    "    'Class': y_noisy,\n",
    "    'quality': 'Noisy'\n",
    "})\n",
    "\n",
    "df = pd.concat([df_clean, df_noisy])\n",
    "\n",
    "df[\"Class\"] = pd.Categorical(df['Class'], categories=[0, 1], ordered=True)\n",
    "df[\"quality\"] = pd.Categorical(df['quality'], categories=['Clean', 'Noisy'], ordered=True)\n",
    "\n",
    "# Map the class labels to shape types (0 -> triangle, 1 -> circle)\n",
    "df['Shape'] = np.where(df['Class'] == 0, 'triangle-up', 'circle')\n",
    "\n",
    "# Create the plot\n",
    "p = (ggplot(df)\n",
    "     + geom_point(aes(x='Feature1', y='Feature2', color='Class'), size=1, alpha=0.7)\n",
    "     + labs(x='Feature 1', y='Feature 2')\n",
    "     + theme_minimal()\n",
    "     + theme(legend_position = 'bottom')\n",
    "     + scale_color_hue()\n",
    "     + facet_wrap(\"quality\")\n",
    ")\n",
    "\n",
    "# Display the plot\n",
    "p"
   ]
  },
  {
   "cell_type": "code",
   "execution_count": null,
   "metadata": {},
   "outputs": [],
   "source": [
    "## Train models\n",
    "from sklearn.ensemble import BaggingClassifier, RandomForestClassifier, GradientBoostingClassifier\n",
    "\n",
    "n_estimators = 200\n",
    "\n",
    "# Train a random forest algorithm on clean data\n",
    "rf_clf_clean = RandomForestClassifier(n_estimators=n_estimators, max_samples=100, n_jobs=-1, random_state=42)\n",
    "rf_clf_clean.fit(X_clean_train, y_clean_train)\n",
    "\n",
    "# Train a gradient boosting algorithm on clean data\n",
    "gb_clf_clean = GradientBoostingClassifier(n_estimators=n_estimators, random_state=42)\n",
    "gb_clf_clean.fit(X_clean_train, y_clean_train)\n",
    "\n",
    "# Train a random forest algorithm on noisy data\n",
    "rf_clf_noisy = RandomForestClassifier(n_estimators=n_estimators, max_samples=100, n_jobs=-1, random_state=42)\n",
    "rf_clf_noisy.fit(X_noisy_train, y_noisy_train)\n",
    "\n",
    "# Train a gradient boosting algorithm on noisy data\n",
    "gb_clf_noisy = GradientBoostingClassifier(n_estimators=n_estimators, random_state=42)\n",
    "gb_clf_noisy.fit(X_noisy_train, y_noisy_train)"
   ]
  },
  {
   "cell_type": "code",
   "execution_count": 15,
   "metadata": {},
   "outputs": [],
   "source": [
    "# extra code – this cell generates and saves Figure 7–5\n",
    "\n",
    "def plot_decision_boundary(clf, X, y, alpha=1.0):\n",
    "    axes=[-1.5, 2.4, -1, 1.5]\n",
    "    x1, x2 = np.meshgrid(np.linspace(axes[0], axes[1], 100),\n",
    "                         np.linspace(axes[2], axes[3], 100))\n",
    "    X_new = np.c_[x1.ravel(), x2.ravel()]\n",
    "    y_pred = clf.predict(X_new).reshape(x1.shape)\n",
    "    \n",
    "    plt.contourf(x1, x2, y_pred, alpha=0.3 * alpha, cmap='Wistia')\n",
    "    plt.contour(x1, x2, y_pred, cmap=\"Greys\", alpha=0.8 * alpha)\n",
    "    colors = [\"#08785c\", \"#c47b27\"]\n",
    "    markers = (\"o\", \"^\")\n",
    "    for idx in (0, 1):\n",
    "        plt.plot(X[:, 0][y == idx], X[:, 1][y == idx],\n",
    "                 color=colors[idx], marker=markers[idx], linestyle=\"none\")\n",
    "    plt.axis(axes)\n",
    "    plt.xlabel(r\"$x_1$\")\n",
    "    plt.ylabel(r\"$x_2$\", rotation=0)"
   ]
  },
  {
   "cell_type": "code",
   "execution_count": null,
   "metadata": {},
   "outputs": [],
   "source": []
  },
  {
   "cell_type": "code",
   "execution_count": null,
   "metadata": {},
   "outputs": [],
   "source": [
    "fig, axes = plt.subplots(nrows=2, ncols=2, figsize=(10, 8), sharey=True)\n",
    "plt.sca(axes[0, 0])\n",
    "plot_decision_boundary(rf_clf_clean, X_clean_test, y_clean_test)\n",
    "plt.title(\"Random Forest\")\n",
    "plt.sca(axes[0, 1])\n",
    "plot_decision_boundary(gb_clf_clean, X_clean_test, y_clean_test)\n",
    "plt.title(\"Gradient boosting\")\n",
    "plt.ylabel(\"\")\n",
    "plt.sca(axes[1, 0])\n",
    "plot_decision_boundary(rf_clf_noisy, X_noisy_test, y_noisy_test)\n",
    "plt.title(\"Random Forest\")\n",
    "plt.sca(axes[1, 1])\n",
    "plot_decision_boundary(gb_clf_noisy, X_noisy_train, y_noisy_train)\n",
    "plt.title(\"Gradient boosting\")\n",
    "plt.ylabel(\"\")\n",
    "plt.show()"
   ]
  }
 ],
 "metadata": {
  "kernelspec": {
   "display_name": "Python 3 (ipykernel)",
   "language": "python",
   "name": "python3"
  },
  "language_info": {
   "codemirror_mode": {
    "name": "ipython",
    "version": 3
   },
   "file_extension": ".py",
   "mimetype": "text/x-python",
   "name": "python",
   "nbconvert_exporter": "python",
   "pygments_lexer": "ipython3",
   "version": "3.12.6"
  },
  "nav_menu": {
   "height": "252px",
   "width": "333px"
  },
  "toc": {
   "navigate_menu": true,
   "number_sections": true,
   "sideBar": true,
   "threshold": 6,
   "toc_cell": false,
   "toc_section_display": "block",
   "toc_window_display": false
  }
 },
 "nbformat": 4,
 "nbformat_minor": 4
}
